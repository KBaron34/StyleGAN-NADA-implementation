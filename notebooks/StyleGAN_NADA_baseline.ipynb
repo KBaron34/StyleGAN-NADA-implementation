{
  "cells": [
    {
      "cell_type": "markdown",
      "metadata": {
        "id": "26wbDFf4qSgt"
      },
      "source": [
        "# Import"
      ]
    },
    {
      "cell_type": "code",
      "execution_count": 1,
      "metadata": {
        "colab": {
          "base_uri": "https://localhost:8080/"
        },
        "id": "wwriXkRaqLin",
        "outputId": "7fde6512-0b6b-46b8-f435-912afadd6f11"
      },
      "outputs": [
        {
          "name": "stdout",
          "output_type": "stream",
          "text": [
            "/content/StyleGAN-nada/ZSSGAN\n"
          ]
        }
      ],
      "source": [
        "# Скачивает репозиторий StyleGAN-nada\n",
        "!git clone --quiet https://github.com/rinongal/StyleGAN-nada\n",
        "%cd StyleGAN-nada/ZSSGAN"
      ]
    },
    {
      "cell_type": "code",
      "execution_count": 2,
      "metadata": {
        "colab": {
          "base_uri": "https://localhost:8080/"
        },
        "id": "y9XR_4Prp1X-",
        "outputId": "2bf4de00-3748-4379-b022-98d1c6bae1c9"
      },
      "outputs": [
        {
          "name": "stdout",
          "output_type": "stream",
          "text": [
            "\u001b[?25l   \u001b[90m━━━━━━━━━━━━━━━━━━━━━━━━━━━━━━━━━━━━━━━━\u001b[0m \u001b[32m0.0/44.8 kB\u001b[0m \u001b[31m?\u001b[0m eta \u001b[36m-:--:--\u001b[0m\r\u001b[2K   \u001b[90m━━━━━━━━━━━━━━━━━━━━━━━━━━━━━━━━━━━━━━━━\u001b[0m \u001b[32m44.8/44.8 kB\u001b[0m \u001b[31m2.2 MB/s\u001b[0m eta \u001b[36m0:00:00\u001b[0m\n",
            "\u001b[?25h\u001b[?25l   \u001b[90m━━━━━━━━━━━━━━━━━━━━━━━━━━━━━━━━━━━━━━━━\u001b[0m \u001b[32m0.0/180.7 kB\u001b[0m \u001b[31m?\u001b[0m eta \u001b[36m-:--:--\u001b[0m\r\u001b[2K   \u001b[90m━━━━━━━━━━━━━━━━━━━━━━━━━━━━━━━━━━━━━━━━\u001b[0m \u001b[32m180.7/180.7 kB\u001b[0m \u001b[31m9.0 MB/s\u001b[0m eta \u001b[36m0:00:00\u001b[0m\n",
            "\u001b[?25h  Preparing metadata (setup.py) ... \u001b[?25l\u001b[?25hdone\n",
            "  Building wheel for clip (setup.py) ... \u001b[?25l\u001b[?25hdone\n"
          ]
        }
      ],
      "source": [
        "!pip install -q torch torchvision\n",
        "!pip install -q ftfy regex tqdm ninja\n",
        "!pip install --quiet git+https://github.com/openai/CLIP.git"
      ]
    },
    {
      "cell_type": "code",
      "execution_count": 3,
      "metadata": {
        "colab": {
          "base_uri": "https://localhost:8080/"
        },
        "id": "ga8uFuHmqFPh",
        "outputId": "656b2b01-9f39-4b61-d030-ded0df8c5de7"
      },
      "outputs": [
        {
          "name": "stdout",
          "output_type": "stream",
          "text": [
            "/usr/local/lib/python3.12/dist-packages/gdown/__main__.py:140: FutureWarning: Option `--id` was deprecated in version 4.3.1 and will be removed in 5.0. You don't need to pass it anymore to use a file ID.\n",
            "  warnings.warn(\n",
            "Downloading...\n",
            "From (original): https://drive.google.com/uc?id=1EM87UquaoQmk17Q8d5kYIAHqu0dkYqdT\n",
            "From (redirected): https://drive.google.com/uc?id=1EM87UquaoQmk17Q8d5kYIAHqu0dkYqdT&confirm=t&uuid=8d605e17-8d27-4c9e-a4af-64dde3b605c6\n",
            "To: /content/StyleGAN2/stylegan2-ffhq-config-f.pt\n",
            "100% 381M/381M [00:05<00:00, 66.6MB/s]\n"
          ]
        }
      ],
      "source": [
        "!pip install -q gdown # библиотека для скачивания с Google drive\n",
        "!mkdir -p /content/StyleGAN2 # создаем папку StyleGAN2\n",
        "!gdown --id 1EM87UquaoQmk17Q8d5kYIAHqu0dkYqdT -O /content/StyleGAN2/stylegan2-ffhq-config-f.pt # модель обученная на датасете ffhq(лица)"
      ]
    },
    {
      "cell_type": "code",
      "execution_count": 4,
      "metadata": {
        "id": "U3dmc8aw9UCE"
      },
      "outputs": [],
      "source": [
        "import os\n",
        "os.environ['TORCH_CUDA_ARCH_LIST'] = '7.5'"
      ]
    },
    {
      "cell_type": "markdown",
      "metadata": {
        "id": "rB9QmGWdqYD5"
      },
      "source": [
        "# Train"
      ]
    },
    {
      "cell_type": "code",
      "execution_count": null,
      "metadata": {
        "id": "1kK6yEYtxrXu"
      },
      "outputs": [],
      "source": [
        "# Перед запуском удали из utils/file_utils.py в 33 строке range=(-1, 1),\n",
        "!python train.py \\\n",
        "    --size 1024 \\\n",
        "    --batch 2 \\\n",
        "    --n_sample 4 \\\n",
        "    --output_dir /content/output \\\n",
        "    --lr 0.002 \\\n",
        "    --frozen_gen_ckpt /content/StyleGAN2/stylegan2-ffhq-config-f.pt \\\n",
        "    --iter 301 \\\n",
        "    --source_class 'poto' \\\n",
        "    --target_class 'sketch' \\\n",
        "    --auto_layer_k 18 \\\n",
        "    --auto_layer_iters 1 \\\n",
        "    --auto_layer_batch 8 \\\n",
        "    --output_interval 50 \\\n",
        "    --clip_models 'ViT-B/32' 'ViT-B/16' \\\n",
        "    --clip_model_weights 1.0 1.0 \\\n",
        "    --mixing 0.0 \\\n",
        "    --save_interval 150"
      ]
    },
    {
      "cell_type": "code",
      "execution_count": null,
      "metadata": {
        "id": "1ET0rk8U_ipI"
      },
      "outputs": [],
      "source": []
    }
  ],
  "metadata": {
    "accelerator": "GPU",
    "colab": {
      "gpuType": "T4",
      "provenance": []
    },
    "kernelspec": {
      "display_name": "Python 3",
      "name": "python3"
    },
    "language_info": {
      "name": "python"
    }
  },
  "nbformat": 4,
  "nbformat_minor": 0
}
